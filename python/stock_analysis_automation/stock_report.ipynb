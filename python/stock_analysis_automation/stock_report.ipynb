{
 "cells": [
  {
   "cell_type": "code",
   "execution_count": 1,
   "metadata": {},
   "outputs": [],
   "source": [
    "import pandas as pd"
   ]
  },
  {
   "cell_type": "code",
   "execution_count": 11,
   "metadata": {
    "scrolled": false
   },
   "outputs": [
    {
     "name": "stdout",
     "output_type": "stream",
     "text": [
      "       company    code\n",
      "0           DL  000210\n",
      "1        DRB동일  004840\n",
      "2          DSR  155660\n",
      "3           GS  078930\n",
      "4        GS글로벌  001250\n",
      "...        ...     ...\n",
      "2494    토마토시스템  393210\n",
      "2495        틸론  217880\n",
      "2496  플럼라인생명과학  222670\n",
      "2497  한국미라클피플사  331660\n",
      "2498       휴벡셀  212310\n",
      "\n",
      "[2499 rows x 2 columns]\n"
     ]
    }
   ],
   "source": [
    "# 종목 코드 가져오는 함수\n",
    "def get_stock_code():\n",
    "    stock_code = pd.read_html('http://kind.krx.co.kr/corpgeneral/corpList.do?method=download', header=0)[0]\n",
    "    \n",
    "    stock_code = stock_code[['회사명', '종목코드']]\n",
    "    \n",
    "    stock_code = stock_code.rename(columns={'회사명': 'company', '종목코드': 'code'})\n",
    "    \n",
    "    stock_code.code = stock_code.code.map('{:06d}'.format)\n",
    "    \n",
    "    return stock_code\n",
    "\n",
    "stock_code = get_stock_code()\n",
    "print(stock_code)"
   ]
  },
  {
   "cell_type": "code",
   "execution_count": 15,
   "metadata": {},
   "outputs": [
    {
     "name": "stdout",
     "output_type": "stream",
     "text": [
      "http://finance.naver.com/item/sise_day.nhn?code=005930&page=1\n",
      "http://finance.naver.com/item/sise_day.nhn?code=005930&page=2\n",
      "http://finance.naver.com/item/sise_day.nhn?code=005930&page=3\n",
      "http://finance.naver.com/item/sise_day.nhn?code=005930&page=4\n",
      "http://finance.naver.com/item/sise_day.nhn?code=005930&page=5\n",
      "http://finance.naver.com/item/sise_day.nhn?code=005930&page=6\n",
      "http://finance.naver.com/item/sise_day.nhn?code=005930&page=7\n",
      "http://finance.naver.com/item/sise_day.nhn?code=005930&page=8\n",
      "http://finance.naver.com/item/sise_day.nhn?code=005930&page=9\n",
      "http://finance.naver.com/item/sise_day.nhn?code=005930&page=10\n",
      "http://finance.naver.com/item/sise_day.nhn?code=005930&page=11\n",
      "http://finance.naver.com/item/sise_day.nhn?code=005930&page=12\n",
      "http://finance.naver.com/item/sise_day.nhn?code=005930&page=13\n",
      "http://finance.naver.com/item/sise_day.nhn?code=005930&page=14\n",
      "http://finance.naver.com/item/sise_day.nhn?code=005930&page=15\n",
      "http://finance.naver.com/item/sise_day.nhn?code=005930&page=16\n",
      "http://finance.naver.com/item/sise_day.nhn?code=005930&page=17\n",
      "http://finance.naver.com/item/sise_day.nhn?code=005930&page=18\n",
      "http://finance.naver.com/item/sise_day.nhn?code=005930&page=19\n",
      "http://finance.naver.com/item/sise_day.nhn?code=005930&page=20\n",
      "             날짜       종가     전일비       시가       고가       저가         거래량\n",
      "0           NaN      NaN     NaN      NaN      NaN      NaN         NaN\n",
      "1    2022.03.11  70000.0  1200.0  70500.0  70700.0  69700.0  15669868.0\n",
      "2    2022.03.10  71200.0  1700.0  70800.0  71200.0  70500.0  21159248.0\n",
      "3    2022.03.08  69500.0   600.0  68800.0  70000.0  68700.0  15828269.0\n",
      "4    2022.03.07  70100.0  1400.0  70000.0  70600.0  69900.0  18617138.0\n",
      "..          ...      ...     ...      ...      ...      ...         ...\n",
      "295  2021.05.25  79900.0   200.0  80000.0  80400.0  79800.0  13628942.0\n",
      "296  2021.05.24  79700.0   400.0  80100.0  80400.0  79500.0  13398666.0\n",
      "297  2021.05.21  80100.0   600.0  80100.0  81500.0  79800.0  20961714.0\n",
      "298  2021.05.20  79500.0   100.0  79400.0  79700.0  79100.0  16541828.0\n",
      "299         NaN      NaN     NaN      NaN      NaN      NaN         NaN\n",
      "\n",
      "[300 rows x 7 columns]\n"
     ]
    }
   ],
   "source": [
    "# 일별 시세 가져오는 함수\n",
    "import requests\n",
    "\n",
    "def get_stock(code):\n",
    "    df = pd.DataFrame()\n",
    "    for page in range(1,21):\n",
    "        url = 'http://finance.naver.com/item/sise_day.nhn?code={code}'.format(code=code)\n",
    "        url = '{url}&page={page}'.format(url=url, page=page)\n",
    "        print(url)\n",
    "        \n",
    "        header = {'User-Agent': 'Mozilla/5.0 (Macintosh; Intel Mac OS X 10_15_7) AppleWebKit/537.36 (KHTML, like Gecko)'}\n",
    "        res = requests.get(url, headers=header)\n",
    "        current_df = pd.read_html(res.text, header=0)[0]\n",
    "        df = df.append(current_df, ignore_index=True)\n",
    "        \n",
    "    return df\n",
    "\n",
    "code = '005930' # 삼성전자 종목코드\n",
    "df = get_stock(code)\n",
    "print(df)"
   ]
  },
  {
   "cell_type": "code",
   "execution_count": null,
   "metadata": {},
   "outputs": [],
   "source": []
  },
  {
   "cell_type": "code",
   "execution_count": null,
   "metadata": {},
   "outputs": [],
   "source": []
  },
  {
   "cell_type": "code",
   "execution_count": null,
   "metadata": {},
   "outputs": [],
   "source": []
  },
  {
   "cell_type": "code",
   "execution_count": null,
   "metadata": {},
   "outputs": [],
   "source": []
  },
  {
   "cell_type": "code",
   "execution_count": null,
   "metadata": {},
   "outputs": [],
   "source": []
  },
  {
   "cell_type": "code",
   "execution_count": null,
   "metadata": {},
   "outputs": [],
   "source": []
  }
 ],
 "metadata": {
  "kernelspec": {
   "display_name": "Python 3",
   "language": "python",
   "name": "python3"
  },
  "language_info": {
   "codemirror_mode": {
    "name": "ipython",
    "version": 3
   },
   "file_extension": ".py",
   "mimetype": "text/x-python",
   "name": "python",
   "nbconvert_exporter": "python",
   "pygments_lexer": "ipython3",
   "version": "3.6.8"
  }
 },
 "nbformat": 4,
 "nbformat_minor": 4
}
